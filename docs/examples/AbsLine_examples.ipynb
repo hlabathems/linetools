{
 "cells": [
  {
   "cell_type": "markdown",
   "metadata": {},
   "source": [
    "# Examples for AbsLine class (v1.5)"
   ]
  },
  {
   "cell_type": "code",
   "execution_count": 1,
   "metadata": {
    "collapsed": false
   },
   "outputs": [],
   "source": [
    "# suppress warnings for these examples\n",
    "import warnings\n",
    "warnings.filterwarnings('ignore')\n",
    "\n",
    "# import\n",
    "import astropy.units as u\n",
    "from linetools.spectralline import AbsLine, SpectralLine\n",
    "from linetools import spectralline as ltsp\n",
    "from linetools import line_utils as ltlu\n",
    "from linetools.spectra import io as lsio\n",
    "from linetools.spectra.xspectrum1d import XSpectrum1D"
   ]
  },
  {
   "cell_type": "markdown",
   "metadata": {},
   "source": [
    "## Generate a line"
   ]
  },
  {
   "cell_type": "code",
   "execution_count": 2,
   "metadata": {
    "collapsed": false
   },
   "outputs": [
    {
     "name": "stdout",
     "output_type": "stream",
     "text": [
      "Loading abundances from Asplund2009\n",
      "Abundances are relative by number on a logarithmic scale with H=12\n"
     ]
    },
    {
     "data": {
      "text/plain": [
       "<AbsLine: CIV 1548, z=0.0000 wrest=1548.1950 Angstrom>"
      ]
     },
     "execution_count": 2,
     "metadata": {},
     "output_type": "execute_result"
    }
   ],
   "source": [
    "abslin = AbsLine(1548.195*u.AA)\n",
    "abslin"
   ]
  },
  {
   "cell_type": "markdown",
   "metadata": {},
   "source": [
    "### Data"
   ]
  },
  {
   "cell_type": "code",
   "execution_count": 3,
   "metadata": {
    "collapsed": false
   },
   "outputs": [
    {
     "data": {
      "text/plain": [
       "{'A': <Quantity 0.0 1 / s>,\n",
       " 'Am': 0,\n",
       " 'Ej': <Quantity 0.0 1 / cm>,\n",
       " 'Ek': <Quantity 0.0 1 / cm>,\n",
       " 'Ex': <Quantity 0.0 1 / cm>,\n",
       " 'Jj': 0.0,\n",
       " 'Jk': 0.0,\n",
       " 'Ref': 'Verner1994',\n",
       " 'Z': 6,\n",
       " 'abundance': 8.4299999999999997,\n",
       " 'col0': masked,\n",
       " 'col7': masked,\n",
       " 'el': 0,\n",
       " 'f': 0.18999999761581421,\n",
       " 'gamma': <Quantity 0.0 1 / s>,\n",
       " 'gj': 2,\n",
       " 'gk': 4,\n",
       " 'group': 1,\n",
       " 'ion': 4,\n",
       " 'ion_correction': 0.0,\n",
       " 'ion_name': u'CIV',\n",
       " 'is_EUV': False,\n",
       " 'is_HI': False,\n",
       " 'is_Strong': True,\n",
       " 'log(w*f)': 2.4685792560428057,\n",
       " 'mol': '',\n",
       " 'name': 'CIV 1548',\n",
       " 'nj': 0,\n",
       " 'nk': 0,\n",
       " 'rel_strength': 10.898579256042805,\n",
       " 'wrest': <Quantity 1548.195 Angstrom>}"
      ]
     },
     "execution_count": 3,
     "metadata": {},
     "output_type": "execute_result"
    }
   ],
   "source": [
    "abslin.data"
   ]
  },
  {
   "cell_type": "markdown",
   "metadata": {},
   "source": [
    "### As dict"
   ]
  },
  {
   "cell_type": "code",
   "execution_count": 4,
   "metadata": {
    "collapsed": false
   },
   "outputs": [
    {
     "data": {
      "text/plain": [
       "{'analy': {u'datafile': u'',\n",
       "  u'do_analysis': 1,\n",
       "  u'flag_kin': 0,\n",
       "  u'flg_eye': 0,\n",
       "  u'flg_limit': 0,\n",
       "  u'name': 'CIV 1548'},\n",
       " 'attrib': {u'DEC': 0.0,\n",
       "  u'EW': {'unit': u'Angstrom', 'value': 0.0},\n",
       "  u'N': {'unit': u'1 / cm2', 'value': 0.0},\n",
       "  u'RA': 0.0,\n",
       "  u'b': {'unit': u'km / s', 'value': 0.0},\n",
       "  u'flag_EW': 0,\n",
       "  u'flag_N': 0,\n",
       "  u'logN': 0.0,\n",
       "  u'sig_EW': {'unit': u'Angstrom', 'value': 0.0},\n",
       "  u'sig_N': {'unit': u'1 / cm2', 'value': 0.0},\n",
       "  u'sig_b': {'unit': u'km / s', 'value': 0.0},\n",
       "  u'sig_logN': 0.0,\n",
       "  u'sig_v': {'unit': u'km / s', 'value': 0.0},\n",
       "  u'sig_z': 0.0,\n",
       "  u'v': {'unit': u'km / s', 'value': 0.0},\n",
       "  u'z': 0.0},\n",
       " 'data': {'A': {'unit': u'1 / s', 'value': 0.0},\n",
       "  'Am': 0,\n",
       "  'Ej': {'unit': u'1 / cm', 'value': 0.0},\n",
       "  'Ek': {'unit': u'1 / cm', 'value': 0.0},\n",
       "  'Ex': {'unit': u'1 / cm', 'value': 0.0},\n",
       "  'Jj': 0.0,\n",
       "  'Jk': 0.0,\n",
       "  'Ref': 'Verner1994',\n",
       "  'Z': 6,\n",
       "  'abundance': 8.43,\n",
       "  'el': 0,\n",
       "  'f': 0.1899999976158142,\n",
       "  'gamma': {'unit': u'1 / s', 'value': 0.0},\n",
       "  'gj': 2,\n",
       "  'gk': 4,\n",
       "  'group': 1,\n",
       "  'ion': 4,\n",
       "  'ion_correction': 0.0,\n",
       "  'ion_name': u'CIV',\n",
       "  'is_EUV': False,\n",
       "  'is_HI': False,\n",
       "  'is_Strong': True,\n",
       "  'log(w*f)': 2.4685792560428057,\n",
       "  'mol': '',\n",
       "  'name': 'CIV 1548',\n",
       "  'nj': 0,\n",
       "  'nk': 0,\n",
       "  'rel_strength': 10.898579256042805,\n",
       "  'wrest': {'unit': u'Angstrom', 'value': 1548.195}},\n",
       " 'limits': {u'vlim': {'unit': u'km / s', 'value': [0.0, 0.0]},\n",
       "  u'wvlim': {'unit': u'Angstrom', 'value': [1548.195, 1548.195]},\n",
       "  u'zlim': [0.0, 0.0]},\n",
       " 'ltype': u'Abs',\n",
       " 'name': 'CIV 1548',\n",
       " 'wrest': {'unit': u'Angstrom', 'value': 1548.195}}"
      ]
     },
     "execution_count": 4,
     "metadata": {},
     "output_type": "execute_result"
    }
   ],
   "source": [
    "abslin = AbsLine(1548.195*u.AA)\n",
    "tmp = abslin.to_dict()\n",
    "tmp"
   ]
  },
  {
   "cell_type": "markdown",
   "metadata": {},
   "source": [
    "### From dict"
   ]
  },
  {
   "cell_type": "code",
   "execution_count": 5,
   "metadata": {
    "collapsed": false
   },
   "outputs": [
    {
     "data": {
      "text/plain": [
       "<AbsLine: CIV 1548, z=0.0000 wrest=1548.1950 Angstrom>"
      ]
     },
     "execution_count": 5,
     "metadata": {},
     "output_type": "execute_result"
    }
   ],
   "source": [
    "tmp2 = SpectralLine.from_dict(tmp)\n",
    "tmp2"
   ]
  },
  {
   "cell_type": "markdown",
   "metadata": {},
   "source": [
    "### From old dict (using analy['vlim']) -- Backwards compatability"
   ]
  },
  {
   "cell_type": "code",
   "execution_count": 6,
   "metadata": {
    "collapsed": false
   },
   "outputs": [
    {
     "data": {
      "text/plain": [
       "{u'vlim': {'unit': u'km / s', 'value': [0.0, 0.0]},\n",
       " u'wvlim': {'unit': u'Angstrom', 'value': [1548.195, 1548.195]},\n",
       " u'zlim': [0.0, 0.0]}"
      ]
     },
     "execution_count": 6,
     "metadata": {},
     "output_type": "execute_result"
    }
   ],
   "source": [
    "tmp.pop('limits')"
   ]
  },
  {
   "cell_type": "code",
   "execution_count": null,
   "metadata": {
    "collapsed": true
   },
   "outputs": [],
   "source": [
    "tmp['analy']['vlim'] = [-150,150]*u.km/u.s\n",
    "tmp['attrib']['z'] = 0.5"
   ]
  },
  {
   "cell_type": "code",
   "execution_count": null,
   "metadata": {
    "collapsed": false
   },
   "outputs": [
    {
     "name": "stdout",
     "output_type": "stream",
     "text": [
      "> /Users/xavier/local/Python/linetools/linetools/spectralline.py(171)from_dict()\n",
      "-> return sline\n"
     ]
    }
   ],
   "source": [
    "tmp3 = SpectralLine.from_dict(tmp)"
   ]
  },
  {
   "cell_type": "markdown",
   "metadata": {},
   "source": [
    "## List of AbsLines"
   ]
  },
  {
   "cell_type": "code",
   "execution_count": null,
   "metadata": {
    "collapsed": true
   },
   "outputs": [],
   "source": [
    "abslines = [abslin, AbsLine('HI 1215')]"
   ]
  },
  {
   "cell_type": "code",
   "execution_count": null,
   "metadata": {
    "collapsed": false
   },
   "outputs": [],
   "source": [
    "wrest_values = ltlu.parse_speclines(abslines, 'wrest')\n",
    "wrest_values"
   ]
  },
  {
   "cell_type": "markdown",
   "metadata": {},
   "source": [
    "### Transition Table"
   ]
  },
  {
   "cell_type": "code",
   "execution_count": null,
   "metadata": {
    "collapsed": false
   },
   "outputs": [],
   "source": [
    "tbl = ltlu.transtable_from_speclines(abslines)\n",
    "tbl"
   ]
  },
  {
   "cell_type": "markdown",
   "metadata": {},
   "source": [
    "## Measure an EW"
   ]
  },
  {
   "cell_type": "code",
   "execution_count": null,
   "metadata": {
    "collapsed": false
   },
   "outputs": [],
   "source": [
    "# Set spectrum\n",
    "abslin.analy['spec'] = XSpectrum1D.from_file('../../linetools/spectra/tests/files/UM184_nF.fits')"
   ]
  },
  {
   "cell_type": "code",
   "execution_count": null,
   "metadata": {
    "collapsed": true
   },
   "outputs": [],
   "source": [
    "# Set analysis range\n",
    "abslin.limits.set([6080.78, 6087.82]*u.AA)  # wvlim"
   ]
  },
  {
   "cell_type": "code",
   "execution_count": null,
   "metadata": {
    "collapsed": false
   },
   "outputs": [],
   "source": [
    "# Measure\n",
    "abslin.measure_ew() # Observer frame\n",
    "print('EW = {:g} with error {:g}'.format(abslin.attrib['EW'],abslin.attrib['sig_EW']))"
   ]
  },
  {
   "cell_type": "markdown",
   "metadata": {},
   "source": [
    "## Measure AODM"
   ]
  },
  {
   "cell_type": "code",
   "execution_count": null,
   "metadata": {
    "collapsed": false
   },
   "outputs": [],
   "source": [
    "#\n",
    "abslin.analy['spec'] = lsio.readspec('../../linetools/spectra/tests/files/UM184_nF.fits')\n",
    "abslin.setz(2.92929)\n",
    "abslin.limits.set((-150., 150.)*u.km/u.s)  # vlim"
   ]
  },
  {
   "cell_type": "code",
   "execution_count": null,
   "metadata": {
    "collapsed": false
   },
   "outputs": [],
   "source": [
    "abslin.measure_aodm()\n",
    "N, sigN, flgN = [abslin.attrib[key] for key in ['N','sig_N','flag_N']] \n",
    "print('logN = {:g}, siglogN = {:g}'.format(abslin.attrib['logN'], abslin.attrib['sig_logN']))"
   ]
  },
  {
   "cell_type": "markdown",
   "metadata": {
    "collapsed": true
   },
   "source": [
    "### Another Table"
   ]
  },
  {
   "cell_type": "code",
   "execution_count": null,
   "metadata": {
    "collapsed": false
   },
   "outputs": [],
   "source": [
    "tbl = ltlu.transtable_from_speclines(abslines)\n",
    "tbl"
   ]
  },
  {
   "cell_type": "code",
   "execution_count": null,
   "metadata": {
    "collapsed": true
   },
   "outputs": [],
   "source": []
  }
 ],
 "metadata": {
  "kernelspec": {
   "display_name": "Python 2",
   "language": "python",
   "name": "python2"
  },
  "language_info": {
   "codemirror_mode": {
    "name": "ipython",
    "version": 2
   },
   "file_extension": ".py",
   "mimetype": "text/x-python",
   "name": "python",
   "nbconvert_exporter": "python",
   "pygments_lexer": "ipython2",
   "version": "2.7.11"
  }
 },
 "nbformat": 4,
 "nbformat_minor": 0
}
